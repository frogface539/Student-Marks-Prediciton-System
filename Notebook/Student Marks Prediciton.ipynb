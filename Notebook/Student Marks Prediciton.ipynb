{
 "cells": [
  {
   "cell_type": "code",
   "execution_count": 1,
   "id": "7872abeccd43efe7",
   "metadata": {
    "ExecuteTime": {
     "end_time": "2025-06-22T12:31:52.693592Z",
     "start_time": "2025-06-22T12:31:52.690499Z"
    }
   },
   "outputs": [],
   "source": [
    "import pandas as pd\n",
    "import numpy as np\n",
    "import seaborn as sns\n",
    "import matplotlib.pyplot as plt"
   ]
  },
  {
   "cell_type": "code",
   "execution_count": 2,
   "id": "32021f936c41e719",
   "metadata": {
    "ExecuteTime": {
     "end_time": "2025-06-22T12:31:52.696590Z",
     "start_time": "2025-06-22T12:31:52.693592Z"
    }
   },
   "outputs": [
    {
     "data": {
      "text/html": [
       "<div>\n",
       "<style scoped>\n",
       "    .dataframe tbody tr th:only-of-type {\n",
       "        vertical-align: middle;\n",
       "    }\n",
       "\n",
       "    .dataframe tbody tr th {\n",
       "        vertical-align: top;\n",
       "    }\n",
       "\n",
       "    .dataframe thead th {\n",
       "        text-align: right;\n",
       "    }\n",
       "</style>\n",
       "<table border=\"1\" class=\"dataframe\">\n",
       "  <thead>\n",
       "    <tr style=\"text-align: right;\">\n",
       "      <th></th>\n",
       "      <th>gender</th>\n",
       "      <th>race/ethnicity</th>\n",
       "      <th>parental level of education</th>\n",
       "      <th>lunch</th>\n",
       "      <th>test preparation course</th>\n",
       "      <th>math score</th>\n",
       "      <th>reading score</th>\n",
       "      <th>writing score</th>\n",
       "    </tr>\n",
       "  </thead>\n",
       "  <tbody>\n",
       "    <tr>\n",
       "      <th>0</th>\n",
       "      <td>female</td>\n",
       "      <td>group B</td>\n",
       "      <td>bachelor's degree</td>\n",
       "      <td>standard</td>\n",
       "      <td>none</td>\n",
       "      <td>72</td>\n",
       "      <td>72</td>\n",
       "      <td>74</td>\n",
       "    </tr>\n",
       "    <tr>\n",
       "      <th>1</th>\n",
       "      <td>female</td>\n",
       "      <td>group C</td>\n",
       "      <td>some college</td>\n",
       "      <td>standard</td>\n",
       "      <td>completed</td>\n",
       "      <td>69</td>\n",
       "      <td>90</td>\n",
       "      <td>88</td>\n",
       "    </tr>\n",
       "    <tr>\n",
       "      <th>2</th>\n",
       "      <td>female</td>\n",
       "      <td>group B</td>\n",
       "      <td>master's degree</td>\n",
       "      <td>standard</td>\n",
       "      <td>none</td>\n",
       "      <td>90</td>\n",
       "      <td>95</td>\n",
       "      <td>93</td>\n",
       "    </tr>\n",
       "    <tr>\n",
       "      <th>3</th>\n",
       "      <td>male</td>\n",
       "      <td>group A</td>\n",
       "      <td>associate's degree</td>\n",
       "      <td>free/reduced</td>\n",
       "      <td>none</td>\n",
       "      <td>47</td>\n",
       "      <td>57</td>\n",
       "      <td>44</td>\n",
       "    </tr>\n",
       "    <tr>\n",
       "      <th>4</th>\n",
       "      <td>male</td>\n",
       "      <td>group C</td>\n",
       "      <td>some college</td>\n",
       "      <td>standard</td>\n",
       "      <td>none</td>\n",
       "      <td>76</td>\n",
       "      <td>78</td>\n",
       "      <td>75</td>\n",
       "    </tr>\n",
       "  </tbody>\n",
       "</table>\n",
       "</div>"
      ],
      "text/plain": [
       "   gender race/ethnicity parental level of education         lunch  \\\n",
       "0  female        group B           bachelor's degree      standard   \n",
       "1  female        group C                some college      standard   \n",
       "2  female        group B             master's degree      standard   \n",
       "3    male        group A          associate's degree  free/reduced   \n",
       "4    male        group C                some college      standard   \n",
       "\n",
       "  test preparation course  math score  reading score  writing score  \n",
       "0                    none          72             72             74  \n",
       "1               completed          69             90             88  \n",
       "2                    none          90             95             93  \n",
       "3                    none          47             57             44  \n",
       "4                    none          76             78             75  "
      ]
     },
     "execution_count": 2,
     "metadata": {},
     "output_type": "execute_result"
    }
   ],
   "source": [
    "df = pd.read_csv(\"../Notebook/StudentsPerformance.csv\")\n",
    "df.head()"
   ]
  },
  {
   "cell_type": "code",
   "execution_count": 3,
   "id": "96434bd7bc8f082",
   "metadata": {
    "ExecuteTime": {
     "end_time": "2025-06-22T12:31:52.699436Z",
     "start_time": "2025-06-22T12:31:52.696590Z"
    }
   },
   "outputs": [
    {
     "data": {
      "text/plain": [
       "gender                         0\n",
       "race/ethnicity                 0\n",
       "parental level of education    0\n",
       "lunch                          0\n",
       "test preparation course        0\n",
       "math score                     0\n",
       "reading score                  0\n",
       "writing score                  0\n",
       "dtype: int64"
      ]
     },
     "execution_count": 3,
     "metadata": {},
     "output_type": "execute_result"
    }
   ],
   "source": [
    "df.isnull().sum()"
   ]
  },
  {
   "cell_type": "code",
   "execution_count": 4,
   "id": "60bb7c9428234064",
   "metadata": {
    "ExecuteTime": {
     "end_time": "2025-06-22T12:31:52.703232Z",
     "start_time": "2025-06-22T12:31:52.700445Z"
    }
   },
   "outputs": [
    {
     "name": "stdout",
     "output_type": "stream",
     "text": [
      "<class 'pandas.core.frame.DataFrame'>\n",
      "RangeIndex: 1000 entries, 0 to 999\n",
      "Data columns (total 8 columns):\n",
      " #   Column                       Non-Null Count  Dtype \n",
      "---  ------                       --------------  ----- \n",
      " 0   gender                       1000 non-null   object\n",
      " 1   race/ethnicity               1000 non-null   object\n",
      " 2   parental level of education  1000 non-null   object\n",
      " 3   lunch                        1000 non-null   object\n",
      " 4   test preparation course      1000 non-null   object\n",
      " 5   math score                   1000 non-null   int64 \n",
      " 6   reading score                1000 non-null   int64 \n",
      " 7   writing score                1000 non-null   int64 \n",
      "dtypes: int64(3), object(5)\n",
      "memory usage: 62.6+ KB\n"
     ]
    }
   ],
   "source": [
    "df.info()"
   ]
  },
  {
   "cell_type": "code",
   "execution_count": 5,
   "id": "867999894249545b",
   "metadata": {
    "ExecuteTime": {
     "end_time": "2025-06-22T12:31:52.706177Z",
     "start_time": "2025-06-22T12:31:52.703232Z"
    }
   },
   "outputs": [
    {
     "data": {
      "text/plain": [
       "gender\n",
       "female    518\n",
       "male      482\n",
       "Name: count, dtype: int64"
      ]
     },
     "execution_count": 5,
     "metadata": {},
     "output_type": "execute_result"
    }
   ],
   "source": [
    "df['gender'].value_counts()"
   ]
  },
  {
   "cell_type": "code",
   "execution_count": 6,
   "id": "497dd6ea6acd9047",
   "metadata": {
    "ExecuteTime": {
     "end_time": "2025-06-22T12:31:52.709162Z",
     "start_time": "2025-06-22T12:31:52.707189Z"
    }
   },
   "outputs": [
    {
     "name": "stdout",
     "output_type": "stream",
     "text": [
      "gender: ['female' 'male']\n",
      "race/ethnicity: ['group B' 'group C' 'group A' 'group D' 'group E']\n",
      "parental level of education: [\"bachelor's degree\" 'some college' \"master's degree\" \"associate's degree\"\n",
      " 'high school' 'some high school']\n",
      "lunch: ['standard' 'free/reduced']\n",
      "test preparation course: ['none' 'completed']\n"
     ]
    }
   ],
   "source": [
    "for col in df.select_dtypes(include='object').columns:\n",
    "    print(f\"{col}: {df[col].unique()}\")"
   ]
  },
  {
   "cell_type": "code",
   "execution_count": 7,
   "id": "2c0017de6784567e",
   "metadata": {},
   "outputs": [],
   "source": [
    "## Removing whitespaces\n",
    "for col in df.select_dtypes(include='object').columns:\n",
    "    df[col] = df[col].str.strip().str.lower()"
   ]
  },
  {
   "cell_type": "code",
   "execution_count": 8,
   "id": "ddd29f80",
   "metadata": {},
   "outputs": [
    {
     "data": {
      "text/plain": [
       "Index(['gender', 'race/ethnicity', 'parental level of education', 'lunch',\n",
       "       'test preparation course', 'math score', 'reading score',\n",
       "       'writing score'],\n",
       "      dtype='object')"
      ]
     },
     "execution_count": 8,
     "metadata": {},
     "output_type": "execute_result"
    }
   ],
   "source": [
    "df.columns"
   ]
  },
  {
   "cell_type": "code",
   "execution_count": 9,
   "id": "b595e2a3",
   "metadata": {},
   "outputs": [],
   "source": [
    "df.rename(columns={\n",
    "    'test preparation course':'test_preparation_course',\n",
    "    'math score': 'math_score',\n",
    "    'reading score' : 'reading_score',\n",
    "    'writing score': 'writing_score'\n",
    "},inplace=True)"
   ]
  },
  {
   "cell_type": "code",
   "execution_count": 10,
   "id": "8c8c1ce5",
   "metadata": {},
   "outputs": [],
   "source": [
    "df['average_score'] = df[['math_score', 'reading_score', 'writing_score']].mean(axis=1)"
   ]
  },
  {
   "cell_type": "code",
   "execution_count": 11,
   "id": "0fc1819d",
   "metadata": {},
   "outputs": [
    {
     "data": {
      "text/plain": [
       "Index(['gender', 'race/ethnicity', 'parental level of education', 'lunch',\n",
       "       'test_preparation_course', 'math_score', 'reading_score',\n",
       "       'writing_score', 'average_score'],\n",
       "      dtype='object')"
      ]
     },
     "execution_count": 11,
     "metadata": {},
     "output_type": "execute_result"
    }
   ],
   "source": [
    "df.columns"
   ]
  },
  {
   "cell_type": "code",
   "execution_count": 12,
   "id": "f7454ed9",
   "metadata": {},
   "outputs": [],
   "source": [
    "## Independent and dependent features\n",
    "X_raw = df.drop(\"average_score\", axis=1)\n",
    "y = df[\"average_score\"]\n",
    "\n",
    "# One-hot encode categorical columns only\n",
    "X_categorical = pd.get_dummies(X_raw.select_dtypes(include='object'), drop_first=True)\n",
    "X_numeric = X_raw[[\"math_score\", \"reading_score\", \"writing_score\"]]\n",
    "\n",
    "# Combine numeric + encoded categorical\n",
    "X = pd.concat([X_numeric, X_categorical], axis=1)\n",
    "model_columns = list(X.columns)"
   ]
  },
  {
   "cell_type": "code",
   "execution_count": 13,
   "id": "485bfae5",
   "metadata": {},
   "outputs": [
    {
     "data": {
      "image/png": "[encoded data removed]",
      "text/plain": [
       "<Figure size 640x480 with 1 Axes>"
      ]
     },
     "metadata": {},
     "output_type": "display_data"
    }
   ],
   "source": [
    "sns.histplot(df['average_score'], kde=True)\n",
    "plt.title(\"Distribution of Average Scores\")\n",
    "plt.show()"
   ]
  },
  {
   "cell_type": "code",
   "execution_count": 14,
   "id": "254a0505",
   "metadata": {},
   "outputs": [],
   "source": [
    "from sklearn.model_selection import train_test_split\n",
    "X_train, X_test, y_train, y_test = train_test_split(X, y, random_state=42, test_size=0.2)"
   ]
  },
  {
   "cell_type": "code",
   "execution_count": 15,
   "id": "a8ab70a9",
   "metadata": {},
   "outputs": [
    {
     "name": "stdout",
     "output_type": "stream",
     "text": [
      "NaNs in X_train: math_score                                       0\n",
      "reading_score                                    0\n",
      "writing_score                                    0\n",
      "gender_male                                      0\n",
      "race/ethnicity_group b                           0\n",
      "race/ethnicity_group c                           0\n",
      "race/ethnicity_group d                           0\n",
      "race/ethnicity_group e                           0\n",
      "parental level of education_bachelor's degree    0\n",
      "parental level of education_high school          0\n",
      "parental level of education_master's degree      0\n",
      "parental level of education_some college         0\n",
      "parental level of education_some high school     0\n",
      "lunch_standard                                   0\n",
      "test_preparation_course_none                     0\n",
      "dtype: int64\n",
      "NaNs in y_train: 0\n"
     ]
    }
   ],
   "source": [
    "print(\"NaNs in X_train:\", np.isnan(X_train).sum())\n",
    "print(\"NaNs in y_train:\", np.isnan(y_train).sum())"
   ]
  },
  {
   "cell_type": "code",
   "execution_count": 16,
   "id": "b997a4ae",
   "metadata": {},
   "outputs": [
    {
     "name": "stdout",
     "output_type": "stream",
     "text": [
      "Inf in X_train: math_score                                       0\n",
      "reading_score                                    0\n",
      "writing_score                                    0\n",
      "gender_male                                      0\n",
      "race/ethnicity_group b                           0\n",
      "race/ethnicity_group c                           0\n",
      "race/ethnicity_group d                           0\n",
      "race/ethnicity_group e                           0\n",
      "parental level of education_bachelor's degree    0\n",
      "parental level of education_high school          0\n",
      "parental level of education_master's degree      0\n",
      "parental level of education_some college         0\n",
      "parental level of education_some high school     0\n",
      "lunch_standard                                   0\n",
      "test_preparation_course_none                     0\n",
      "dtype: int64\n",
      "Inf in y_train: 0\n"
     ]
    }
   ],
   "source": [
    "print(\"Inf in X_train:\", np.isinf(X_train).sum())\n",
    "print(\"Inf in y_train:\", np.isinf(y_train).sum())"
   ]
  },
  {
   "cell_type": "code",
   "execution_count": 17,
   "id": "83f40463",
   "metadata": {},
   "outputs": [],
   "source": [
    "X_train = pd.DataFrame(X_train).replace([np.inf, -np.inf], np.nan).dropna()\n",
    "y_train = pd.Series(y_train).loc[X_train.index] "
   ]
  },
  {
   "cell_type": "code",
   "execution_count": 18,
   "id": "a1de6eaa",
   "metadata": {},
   "outputs": [],
   "source": [
    "from sklearn.impute import SimpleImputer\n",
    "imp = SimpleImputer()\n",
    "X_train = pd.DataFrame(imp.fit_transform(X_train), columns=model_columns)"
   ]
  },
  {
   "cell_type": "code",
   "execution_count": 19,
   "id": "2ed8cc3f",
   "metadata": {},
   "outputs": [
    {
     "name": "stdout",
     "output_type": "stream",
     "text": [
      "\n",
      "AdaBoost\n",
      "R2 Score: 0.9792\n",
      "MAE: 1.46\n",
      "MSE: 4.46\n",
      "\n",
      "GradientBoosting\n",
      "R2 Score: 0.9957\n",
      "MAE: 0.55\n",
      "MSE: 0.92\n"
     ]
    }
   ],
   "source": [
    "from sklearn.ensemble import AdaBoostRegressor, GradientBoostingRegressor\n",
    "from sklearn.metrics import r2_score, mean_absolute_error, mean_squared_error\n",
    "# from xgboost import XGBRegressor\n",
    "\n",
    "ada = AdaBoostRegressor(random_state=42)\n",
    "gbr = GradientBoostingRegressor(random_state=42)\n",
    "# xgb = XGBRegressor(random_state=42)\n",
    "\n",
    "ada.fit(X_train, y_train)\n",
    "gbr.fit(X_train, y_train)\n",
    "# xgb.fit(X_train, y_train)\n",
    "\n",
    "y_pred_ada = ada.predict(X_test)\n",
    "y_pred_gbr = gbr.predict(X_test)\n",
    "# y_pred_xgb = xgb.predict(X_test)\n",
    "\n",
    "def evaluate_model(name, y_true, y_pred):\n",
    "    print(f\"\\n{name}\")\n",
    "    print(f\"R2 Score: {r2_score(y_true, y_pred):.4f}\")\n",
    "    print(f\"MAE: {mean_absolute_error(y_true, y_pred):.2f}\")\n",
    "    print(f\"MSE: {mean_squared_error(y_true, y_pred):.2f}\")\n",
    "\n",
    "evaluate_model(\"AdaBoost\", y_test, y_pred_ada)\n",
    "evaluate_model(\"GradientBoosting\", y_test, y_pred_gbr)\n",
    "# evaluate_model(\"XGBoost\", y_test, y_pred_xgb)\n"
   ]
  },
  {
   "cell_type": "code",
   "execution_count": 20,
   "id": "450c068a",
   "metadata": {},
   "outputs": [],
   "source": [
    "ada_params = {\n",
    "    'n_estimators':[50,100,150,200],\n",
    "    'learning_rate':[0.01, 0.05, 0.1, 0.5, 1]\n",
    "}\n",
    "\n",
    "gbr_params = {\n",
    "    'n_estimators': [100, 200, 300],\n",
    "    'learning_rate': [0.01, 0.05, 0.1, 0.2],\n",
    "    'max_depth': [3, 4, 5, 6],\n",
    "    'subsample': [0.6, 0.8, 1.0]\n",
    "}"
   ]
  },
  {
   "cell_type": "code",
   "execution_count": 21,
   "id": "4d6f67b4",
   "metadata": {},
   "outputs": [
    {
     "name": "stdout",
     "output_type": "stream",
     "text": [
      "\n",
      "AdaBoostRegressor(learning_rate=1, n_estimators=150, random_state=42)\n",
      "R2 Score: 0.9837\n",
      "MAE: 1.33\n",
      "MSE: 3.50\n"
     ]
    }
   ],
   "source": [
    "from sklearn.model_selection import RandomizedSearchCV\n",
    "random_search_ada = RandomizedSearchCV(ada, param_distributions=ada_params, n_iter=10, cv=5, random_state=42, scoring=\"r2\")\n",
    "random_search_ada.fit(X_train, y_train)\n",
    "best_ada = random_search_ada.best_estimator_\n",
    "\n",
    "y_pred_ada_tuned = best_ada.predict(X_test)\n",
    "evaluate_model(best_ada, y_test, y_pred_ada_tuned)"
   ]
  },
  {
   "cell_type": "code",
   "execution_count": 22,
   "id": "8855a955",
   "metadata": {},
   "outputs": [
    {
     "name": "stdout",
     "output_type": "stream",
     "text": [
      "\n",
      "GradientBoostingRegressor(learning_rate=0.05, max_depth=6, n_estimators=200,\n",
      "                          random_state=42, subsample=0.6)\n",
      "R2 Score: 0.9972\n",
      "MAE: 0.36\n",
      "MSE: 0.61\n"
     ]
    }
   ],
   "source": [
    "random_search_gbr = RandomizedSearchCV(gbr, param_distributions=gbr_params, n_iter=10, cv=5, random_state=42, scoring=\"r2\")\n",
    "random_search_gbr.fit(X_train, y_train)\n",
    "best_gbr = random_search_gbr.best_estimator_\n",
    "\n",
    "y_pred_gbr_tuned = best_gbr.predict(X_test)\n",
    "evaluate_model(best_gbr, y_test, y_pred_gbr_tuned)"
   ]
  },
  {
   "cell_type": "code",
   "execution_count": 23,
   "id": "2cd1b92d",
   "metadata": {},
   "outputs": [
    {
     "data": {
      "text/plain": [
       "Text(0, 0.5, 'Predicted')"
      ]
     },
     "execution_count": 23,
     "metadata": {},
     "output_type": "execute_result"
    },
    {
     "data": {
      "image/png": "[encoded data removed]",
      "text/plain": [
       "<Figure size 1800x500 with 1 Axes>"
      ]
     },
     "metadata": {},
     "output_type": "display_data"
    }
   ],
   "source": [
    "plt.figure(figsize=(18, 5))\n",
    "plt.subplot(1, 3, 1)\n",
    "sns.scatterplot(x=y_test, y=y_pred_ada_tuned, alpha=0.6)\n",
    "plt.plot([y_test.min(), y_test.max()], [y_test.min(), y_test.max()], '--r')\n",
    "plt.title(\"AdaBoost: Actual vs Predicted\")\n",
    "plt.xlabel(\"Actual\")\n",
    "plt.ylabel(\"Predicted\")"
   ]
  },
  {
   "cell_type": "code",
   "execution_count": 24,
   "id": "78641b4c",
   "metadata": {},
   "outputs": [
    {
     "data": {
      "text/plain": [
       "Text(0, 0.5, 'Predicted')"
      ]
     },
     "execution_count": 24,
     "metadata": {},
     "output_type": "execute_result"
    },
    {
     "data": {
      "image/png": "[encoded data removed]",
      "text/plain": [
       "<Figure size 1800x500 with 1 Axes>"
      ]
     },
     "metadata": {},
     "output_type": "display_data"
    }
   ],
   "source": [
    "plt.figure(figsize=(18, 5))\n",
    "plt.subplot(1, 3, 2)\n",
    "sns.scatterplot(x=y_test, y=y_pred_gbr_tuned, alpha=0.6)\n",
    "plt.plot([y_test.min(), y_test.max()], [y_test.min(), y_test.max()], '--r')\n",
    "plt.title(\"Gradient Boosting: Actual vs Predicted\")\n",
    "plt.xlabel(\"Actual\")\n",
    "plt.ylabel(\"Predicted\")"
   ]
  },
  {
   "cell_type": "code",
   "execution_count": 25,
   "id": "003e9844",
   "metadata": {},
   "outputs": [
    {
     "data": {
      "text/plain": [
       "['../models/gradient_boost_model.pkl']"
      ]
     },
     "execution_count": 25,
     "metadata": {},
     "output_type": "execute_result"
    }
   ],
   "source": [
    "import joblib\n",
    "\n",
    "joblib.dump(best_ada, \"../models/ada_boost_model.pkl\")\n",
    "joblib.dump(best_gbr, \"../models/gradient_boost_model.pkl\")\n"
   ]
  },
  {
   "cell_type": "code",
   "execution_count": 26,
   "id": "8682a30b",
   "metadata": {},
   "outputs": [
    {
     "data": {
      "text/plain": [
       "['../models/model_columns.pkl']"
      ]
     },
     "execution_count": 26,
     "metadata": {},
     "output_type": "execute_result"
    }
   ],
   "source": [
    "joblib.dump(model_columns, \"../models/model_columns.pkl\")"
   ]
  },
  {
   "cell_type": "code",
   "execution_count": 27,
   "id": "f7ba7726",
   "metadata": {},
   "outputs": [
    {
     "name": "stdout",
     "output_type": "stream",
     "text": [
      "Index(['math_score', 'reading_score', 'writing_score', 'gender_male',\n",
      "       'race/ethnicity_group b', 'race/ethnicity_group c',\n",
      "       'race/ethnicity_group d', 'race/ethnicity_group e',\n",
      "       'parental level of education_bachelor's degree',\n",
      "       'parental level of education_high school',\n",
      "       'parental level of education_master's degree',\n",
      "       'parental level of education_some college',\n",
      "       'parental level of education_some high school', 'lunch_standard',\n",
      "       'test_preparation_course_none'],\n",
      "      dtype='object')\n"
     ]
    }
   ],
   "source": [
    "print(X.columns)"
   ]
  },
  {
   "cell_type": "code",
   "execution_count": null,
   "id": "381e4899",
   "metadata": {},
   "outputs": [],
   "source": []
  },
  {
   "cell_type": "code",
   "execution_count": null,
   "id": "6f6bf1a0",
   "metadata": {},
   "outputs": [],
   "source": []
  }
 ],
 "metadata": {
  "kernelspec": {
   "display_name": "base",
   "language": "python",
   "name": "python3"
  },
  "language_info": {
   "codemirror_mode": {
    "name": "ipython",
    "version": 3
   },
   "file_extension": ".py",
   "mimetype": "text/x-python",
   "name": "python",
   "nbconvert_exporter": "python",
   "pygments_lexer": "ipython3",
   "version": "3.12.7"
  }
 },
 "nbformat": 4,
 "nbformat_minor": 5
}
